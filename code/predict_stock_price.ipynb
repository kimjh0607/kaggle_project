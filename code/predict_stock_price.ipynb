{
 "cells": [
  {
   "cell_type": "markdown",
   "metadata": {},
   "source": [
    "# Predict Stock Price"
   ]
  },
  {
   "cell_type": "code",
   "execution_count": 37,
   "metadata": {},
   "outputs": [],
   "source": [
    "# !pip install yfinance"
   ]
  },
  {
   "cell_type": "code",
   "execution_count": 38,
   "metadata": {},
   "outputs": [],
   "source": [
    "import yfinance as yf\n",
    "\n",
    "msft = yf.Ticker(\"MSFT\")\n",
    "msft_hist = msft.history(period=\"max\")"
   ]
  },
  {
   "cell_type": "code",
   "execution_count": 39,
   "metadata": {},
   "outputs": [],
   "source": [
    "import os\n",
    "import pandas as pd\n",
    "\n",
    "DATA_PATH = \"msft_data.json\"\n",
    "\n",
    "if os.path.exists(DATA_PATH):\n",
    "    with open(DATA_PATH) as f:\n",
    "        msft_hist = pd.read_json(DATA_PATH)\n",
    "else:\n",
    "    msft = yf.Ticker(\"MSFT\")\n",
    "    msft_hist = msft.history(period=\"max\")\n",
    "\n",
    "    msft_hist.to_json(DATA_PATH)\n",
    "\n"
   ]
  },
  {
   "cell_type": "code",
   "execution_count": 40,
   "metadata": {},
   "outputs": [
    {
     "data": {
      "text/html": [
       "<div>\n",
       "<style scoped>\n",
       "    .dataframe tbody tr th:only-of-type {\n",
       "        vertical-align: middle;\n",
       "    }\n",
       "\n",
       "    .dataframe tbody tr th {\n",
       "        vertical-align: top;\n",
       "    }\n",
       "\n",
       "    .dataframe thead th {\n",
       "        text-align: right;\n",
       "    }\n",
       "</style>\n",
       "<table border=\"1\" class=\"dataframe\">\n",
       "  <thead>\n",
       "    <tr style=\"text-align: right;\">\n",
       "      <th></th>\n",
       "      <th>Open</th>\n",
       "      <th>High</th>\n",
       "      <th>Low</th>\n",
       "      <th>Close</th>\n",
       "      <th>Volume</th>\n",
       "      <th>Dividends</th>\n",
       "      <th>Stock Splits</th>\n",
       "    </tr>\n",
       "  </thead>\n",
       "  <tbody>\n",
       "    <tr>\n",
       "      <th>1986-03-13 05:00:00</th>\n",
       "      <td>0.055004</td>\n",
       "      <td>0.063093</td>\n",
       "      <td>0.055004</td>\n",
       "      <td>0.060396</td>\n",
       "      <td>1031788800</td>\n",
       "      <td>0.0</td>\n",
       "      <td>0.0</td>\n",
       "    </tr>\n",
       "    <tr>\n",
       "      <th>1986-03-14 05:00:00</th>\n",
       "      <td>0.060396</td>\n",
       "      <td>0.063632</td>\n",
       "      <td>0.060396</td>\n",
       "      <td>0.062553</td>\n",
       "      <td>308160000</td>\n",
       "      <td>0.0</td>\n",
       "      <td>0.0</td>\n",
       "    </tr>\n",
       "    <tr>\n",
       "      <th>1986-03-17 05:00:00</th>\n",
       "      <td>0.062553</td>\n",
       "      <td>0.064172</td>\n",
       "      <td>0.062553</td>\n",
       "      <td>0.063632</td>\n",
       "      <td>133171200</td>\n",
       "      <td>0.0</td>\n",
       "      <td>0.0</td>\n",
       "    </tr>\n",
       "    <tr>\n",
       "      <th>1986-03-18 05:00:00</th>\n",
       "      <td>0.063632</td>\n",
       "      <td>0.064172</td>\n",
       "      <td>0.061475</td>\n",
       "      <td>0.062014</td>\n",
       "      <td>67766400</td>\n",
       "      <td>0.0</td>\n",
       "      <td>0.0</td>\n",
       "    </tr>\n",
       "    <tr>\n",
       "      <th>1986-03-19 05:00:00</th>\n",
       "      <td>0.062014</td>\n",
       "      <td>0.062553</td>\n",
       "      <td>0.060396</td>\n",
       "      <td>0.060936</td>\n",
       "      <td>47894400</td>\n",
       "      <td>0.0</td>\n",
       "      <td>0.0</td>\n",
       "    </tr>\n",
       "  </tbody>\n",
       "</table>\n",
       "</div>"
      ],
      "text/plain": [
       "                         Open      High       Low     Close      Volume  \\\n",
       "1986-03-13 05:00:00  0.055004  0.063093  0.055004  0.060396  1031788800   \n",
       "1986-03-14 05:00:00  0.060396  0.063632  0.060396  0.062553   308160000   \n",
       "1986-03-17 05:00:00  0.062553  0.064172  0.062553  0.063632   133171200   \n",
       "1986-03-18 05:00:00  0.063632  0.064172  0.061475  0.062014    67766400   \n",
       "1986-03-19 05:00:00  0.062014  0.062553  0.060396  0.060936    47894400   \n",
       "\n",
       "                     Dividends  Stock Splits  \n",
       "1986-03-13 05:00:00        0.0           0.0  \n",
       "1986-03-14 05:00:00        0.0           0.0  \n",
       "1986-03-17 05:00:00        0.0           0.0  \n",
       "1986-03-18 05:00:00        0.0           0.0  \n",
       "1986-03-19 05:00:00        0.0           0.0  "
      ]
     },
     "execution_count": 40,
     "metadata": {},
     "output_type": "execute_result"
    }
   ],
   "source": [
    "msft_hist.head()"
   ]
  },
  {
   "cell_type": "code",
   "execution_count": 41,
   "metadata": {},
   "outputs": [
    {
     "data": {
      "text/plain": [
       "<Axes: >"
      ]
     },
     "execution_count": 41,
     "metadata": {},
     "output_type": "execute_result"
    },
    {
     "data": {
      "image/png": "[encoded data removed]",
      "text/plain": [
       "<Figure size 640x480 with 1 Axes>"
      ]
     },
     "metadata": {},
     "output_type": "display_data"
    }
   ],
   "source": [
    "msft_hist.plot.line(y=\"Close\", use_index=True)"
   ]
  },
  {
   "cell_type": "code",
   "execution_count": 42,
   "metadata": {},
   "outputs": [
    {
     "data": {
      "text/html": [
       "<div>\n",
       "<style scoped>\n",
       "    .dataframe tbody tr th:only-of-type {\n",
       "        vertical-align: middle;\n",
       "    }\n",
       "\n",
       "    .dataframe tbody tr th {\n",
       "        vertical-align: top;\n",
       "    }\n",
       "\n",
       "    .dataframe thead th {\n",
       "        text-align: right;\n",
       "    }\n",
       "</style>\n",
       "<table border=\"1\" class=\"dataframe\">\n",
       "  <thead>\n",
       "    <tr style=\"text-align: right;\">\n",
       "      <th></th>\n",
       "      <th>Close</th>\n",
       "    </tr>\n",
       "  </thead>\n",
       "  <tbody>\n",
       "    <tr>\n",
       "      <th>1986-03-13 05:00:00</th>\n",
       "      <td>0.060396</td>\n",
       "    </tr>\n",
       "    <tr>\n",
       "      <th>1986-03-14 05:00:00</th>\n",
       "      <td>0.062553</td>\n",
       "    </tr>\n",
       "    <tr>\n",
       "      <th>1986-03-17 05:00:00</th>\n",
       "      <td>0.063632</td>\n",
       "    </tr>\n",
       "    <tr>\n",
       "      <th>1986-03-18 05:00:00</th>\n",
       "      <td>0.062014</td>\n",
       "    </tr>\n",
       "    <tr>\n",
       "      <th>1986-03-19 05:00:00</th>\n",
       "      <td>0.060936</td>\n",
       "    </tr>\n",
       "    <tr>\n",
       "      <th>...</th>\n",
       "      <td>...</td>\n",
       "    </tr>\n",
       "    <tr>\n",
       "      <th>2023-10-26 04:00:00</th>\n",
       "      <td>327.890015</td>\n",
       "    </tr>\n",
       "    <tr>\n",
       "      <th>2023-10-27 04:00:00</th>\n",
       "      <td>329.809998</td>\n",
       "    </tr>\n",
       "    <tr>\n",
       "      <th>2023-10-30 04:00:00</th>\n",
       "      <td>337.309998</td>\n",
       "    </tr>\n",
       "    <tr>\n",
       "      <th>2023-10-31 04:00:00</th>\n",
       "      <td>338.109985</td>\n",
       "    </tr>\n",
       "    <tr>\n",
       "      <th>2023-11-01 04:00:00</th>\n",
       "      <td>346.149994</td>\n",
       "    </tr>\n",
       "  </tbody>\n",
       "</table>\n",
       "<p>9487 rows × 1 columns</p>\n",
       "</div>"
      ],
      "text/plain": [
       "                          Close\n",
       "1986-03-13 05:00:00    0.060396\n",
       "1986-03-14 05:00:00    0.062553\n",
       "1986-03-17 05:00:00    0.063632\n",
       "1986-03-18 05:00:00    0.062014\n",
       "1986-03-19 05:00:00    0.060936\n",
       "...                         ...\n",
       "2023-10-26 04:00:00  327.890015\n",
       "2023-10-27 04:00:00  329.809998\n",
       "2023-10-30 04:00:00  337.309998\n",
       "2023-10-31 04:00:00  338.109985\n",
       "2023-11-01 04:00:00  346.149994\n",
       "\n",
       "[9487 rows x 1 columns]"
      ]
     },
     "execution_count": 42,
     "metadata": {},
     "output_type": "execute_result"
    }
   ],
   "source": [
    "data = msft_hist[[\"Close\"]]\n",
    "data"
   ]
  },
  {
   "cell_type": "code",
   "execution_count": 43,
   "metadata": {},
   "outputs": [
    {
     "data": {
      "text/html": [
       "<div>\n",
       "<style scoped>\n",
       "    .dataframe tbody tr th:only-of-type {\n",
       "        vertical-align: middle;\n",
       "    }\n",
       "\n",
       "    .dataframe tbody tr th {\n",
       "        vertical-align: top;\n",
       "    }\n",
       "\n",
       "    .dataframe thead th {\n",
       "        text-align: right;\n",
       "    }\n",
       "</style>\n",
       "<table border=\"1\" class=\"dataframe\">\n",
       "  <thead>\n",
       "    <tr style=\"text-align: right;\">\n",
       "      <th></th>\n",
       "      <th>Actual_Close</th>\n",
       "    </tr>\n",
       "  </thead>\n",
       "  <tbody>\n",
       "    <tr>\n",
       "      <th>1986-03-13 05:00:00</th>\n",
       "      <td>0.060396</td>\n",
       "    </tr>\n",
       "    <tr>\n",
       "      <th>1986-03-14 05:00:00</th>\n",
       "      <td>0.062553</td>\n",
       "    </tr>\n",
       "    <tr>\n",
       "      <th>1986-03-17 05:00:00</th>\n",
       "      <td>0.063632</td>\n",
       "    </tr>\n",
       "    <tr>\n",
       "      <th>1986-03-18 05:00:00</th>\n",
       "      <td>0.062014</td>\n",
       "    </tr>\n",
       "    <tr>\n",
       "      <th>1986-03-19 05:00:00</th>\n",
       "      <td>0.060936</td>\n",
       "    </tr>\n",
       "    <tr>\n",
       "      <th>...</th>\n",
       "      <td>...</td>\n",
       "    </tr>\n",
       "    <tr>\n",
       "      <th>2023-10-26 04:00:00</th>\n",
       "      <td>327.890015</td>\n",
       "    </tr>\n",
       "    <tr>\n",
       "      <th>2023-10-27 04:00:00</th>\n",
       "      <td>329.809998</td>\n",
       "    </tr>\n",
       "    <tr>\n",
       "      <th>2023-10-30 04:00:00</th>\n",
       "      <td>337.309998</td>\n",
       "    </tr>\n",
       "    <tr>\n",
       "      <th>2023-10-31 04:00:00</th>\n",
       "      <td>338.109985</td>\n",
       "    </tr>\n",
       "    <tr>\n",
       "      <th>2023-11-01 04:00:00</th>\n",
       "      <td>346.149994</td>\n",
       "    </tr>\n",
       "  </tbody>\n",
       "</table>\n",
       "<p>9487 rows × 1 columns</p>\n",
       "</div>"
      ],
      "text/plain": [
       "                     Actual_Close\n",
       "1986-03-13 05:00:00      0.060396\n",
       "1986-03-14 05:00:00      0.062553\n",
       "1986-03-17 05:00:00      0.063632\n",
       "1986-03-18 05:00:00      0.062014\n",
       "1986-03-19 05:00:00      0.060936\n",
       "...                           ...\n",
       "2023-10-26 04:00:00    327.890015\n",
       "2023-10-27 04:00:00    329.809998\n",
       "2023-10-30 04:00:00    337.309998\n",
       "2023-10-31 04:00:00    338.109985\n",
       "2023-11-01 04:00:00    346.149994\n",
       "\n",
       "[9487 rows x 1 columns]"
      ]
     },
     "execution_count": 43,
     "metadata": {},
     "output_type": "execute_result"
    }
   ],
   "source": [
    "data = data.rename(columns= {'Close' : 'Actual_Close'})\n",
    "data"
   ]
  },
  {
   "cell_type": "code",
   "execution_count": 44,
   "metadata": {},
   "outputs": [
    {
     "data": {
      "text/html": [
       "<div>\n",
       "<style scoped>\n",
       "    .dataframe tbody tr th:only-of-type {\n",
       "        vertical-align: middle;\n",
       "    }\n",
       "\n",
       "    .dataframe tbody tr th {\n",
       "        vertical-align: top;\n",
       "    }\n",
       "\n",
       "    .dataframe thead th {\n",
       "        text-align: right;\n",
       "    }\n",
       "</style>\n",
       "<table border=\"1\" class=\"dataframe\">\n",
       "  <thead>\n",
       "    <tr style=\"text-align: right;\">\n",
       "      <th></th>\n",
       "      <th>Actual_Close</th>\n",
       "      <th>Target</th>\n",
       "    </tr>\n",
       "  </thead>\n",
       "  <tbody>\n",
       "    <tr>\n",
       "      <th>1986-03-13 05:00:00</th>\n",
       "      <td>0.060396</td>\n",
       "      <td>NaN</td>\n",
       "    </tr>\n",
       "    <tr>\n",
       "      <th>1986-03-14 05:00:00</th>\n",
       "      <td>0.062553</td>\n",
       "      <td>1.0</td>\n",
       "    </tr>\n",
       "    <tr>\n",
       "      <th>1986-03-17 05:00:00</th>\n",
       "      <td>0.063632</td>\n",
       "      <td>1.0</td>\n",
       "    </tr>\n",
       "    <tr>\n",
       "      <th>1986-03-18 05:00:00</th>\n",
       "      <td>0.062014</td>\n",
       "      <td>0.0</td>\n",
       "    </tr>\n",
       "    <tr>\n",
       "      <th>1986-03-19 05:00:00</th>\n",
       "      <td>0.060936</td>\n",
       "      <td>0.0</td>\n",
       "    </tr>\n",
       "  </tbody>\n",
       "</table>\n",
       "</div>"
      ],
      "text/plain": [
       "                     Actual_Close  Target\n",
       "1986-03-13 05:00:00      0.060396     NaN\n",
       "1986-03-14 05:00:00      0.062553     1.0\n",
       "1986-03-17 05:00:00      0.063632     1.0\n",
       "1986-03-18 05:00:00      0.062014     0.0\n",
       "1986-03-19 05:00:00      0.060936     0.0"
      ]
     },
     "execution_count": 44,
     "metadata": {},
     "output_type": "execute_result"
    }
   ],
   "source": [
    "data[\"Target\"] = msft_hist.rolling(2).apply(lambda x: x.iloc[1] > x.iloc[0])[\"Close\"]\n",
    "data.head()"
   ]
  },
  {
   "cell_type": "code",
   "execution_count": 45,
   "metadata": {},
   "outputs": [
    {
     "data": {
      "text/html": [
       "<div>\n",
       "<style scoped>\n",
       "    .dataframe tbody tr th:only-of-type {\n",
       "        vertical-align: middle;\n",
       "    }\n",
       "\n",
       "    .dataframe tbody tr th {\n",
       "        vertical-align: top;\n",
       "    }\n",
       "\n",
       "    .dataframe thead th {\n",
       "        text-align: right;\n",
       "    }\n",
       "</style>\n",
       "<table border=\"1\" class=\"dataframe\">\n",
       "  <thead>\n",
       "    <tr style=\"text-align: right;\">\n",
       "      <th></th>\n",
       "      <th>Open</th>\n",
       "      <th>High</th>\n",
       "      <th>Low</th>\n",
       "      <th>Close</th>\n",
       "      <th>Volume</th>\n",
       "      <th>Dividends</th>\n",
       "      <th>Stock Splits</th>\n",
       "    </tr>\n",
       "  </thead>\n",
       "  <tbody>\n",
       "    <tr>\n",
       "      <th>1986-03-13 05:00:00</th>\n",
       "      <td>NaN</td>\n",
       "      <td>NaN</td>\n",
       "      <td>NaN</td>\n",
       "      <td>NaN</td>\n",
       "      <td>NaN</td>\n",
       "      <td>NaN</td>\n",
       "      <td>NaN</td>\n",
       "    </tr>\n",
       "    <tr>\n",
       "      <th>1986-03-14 05:00:00</th>\n",
       "      <td>0.055004</td>\n",
       "      <td>0.063093</td>\n",
       "      <td>0.055004</td>\n",
       "      <td>0.060396</td>\n",
       "      <td>1.031789e+09</td>\n",
       "      <td>0.0</td>\n",
       "      <td>0.0</td>\n",
       "    </tr>\n",
       "    <tr>\n",
       "      <th>1986-03-17 05:00:00</th>\n",
       "      <td>0.060396</td>\n",
       "      <td>0.063632</td>\n",
       "      <td>0.060396</td>\n",
       "      <td>0.062553</td>\n",
       "      <td>3.081600e+08</td>\n",
       "      <td>0.0</td>\n",
       "      <td>0.0</td>\n",
       "    </tr>\n",
       "    <tr>\n",
       "      <th>1986-03-18 05:00:00</th>\n",
       "      <td>0.062553</td>\n",
       "      <td>0.064172</td>\n",
       "      <td>0.062553</td>\n",
       "      <td>0.063632</td>\n",
       "      <td>1.331712e+08</td>\n",
       "      <td>0.0</td>\n",
       "      <td>0.0</td>\n",
       "    </tr>\n",
       "    <tr>\n",
       "      <th>1986-03-19 05:00:00</th>\n",
       "      <td>0.063632</td>\n",
       "      <td>0.064172</td>\n",
       "      <td>0.061475</td>\n",
       "      <td>0.062014</td>\n",
       "      <td>6.776640e+07</td>\n",
       "      <td>0.0</td>\n",
       "      <td>0.0</td>\n",
       "    </tr>\n",
       "  </tbody>\n",
       "</table>\n",
       "</div>"
      ],
      "text/plain": [
       "                         Open      High       Low     Close        Volume  \\\n",
       "1986-03-13 05:00:00       NaN       NaN       NaN       NaN           NaN   \n",
       "1986-03-14 05:00:00  0.055004  0.063093  0.055004  0.060396  1.031789e+09   \n",
       "1986-03-17 05:00:00  0.060396  0.063632  0.060396  0.062553  3.081600e+08   \n",
       "1986-03-18 05:00:00  0.062553  0.064172  0.062553  0.063632  1.331712e+08   \n",
       "1986-03-19 05:00:00  0.063632  0.064172  0.061475  0.062014  6.776640e+07   \n",
       "\n",
       "                     Dividends  Stock Splits  \n",
       "1986-03-13 05:00:00        NaN           NaN  \n",
       "1986-03-14 05:00:00        0.0           0.0  \n",
       "1986-03-17 05:00:00        0.0           0.0  \n",
       "1986-03-18 05:00:00        0.0           0.0  \n",
       "1986-03-19 05:00:00        0.0           0.0  "
      ]
     },
     "execution_count": 45,
     "metadata": {},
     "output_type": "execute_result"
    }
   ],
   "source": [
    "msft_prev = msft_hist.copy()\n",
    "msft_prev = msft_prev.shift(1)\n",
    "msft_prev.head()"
   ]
  },
  {
   "cell_type": "code",
   "execution_count": 46,
   "metadata": {},
   "outputs": [
    {
     "data": {
      "text/html": [
       "<div>\n",
       "<style scoped>\n",
       "    .dataframe tbody tr th:only-of-type {\n",
       "        vertical-align: middle;\n",
       "    }\n",
       "\n",
       "    .dataframe tbody tr th {\n",
       "        vertical-align: top;\n",
       "    }\n",
       "\n",
       "    .dataframe thead th {\n",
       "        text-align: right;\n",
       "    }\n",
       "</style>\n",
       "<table border=\"1\" class=\"dataframe\">\n",
       "  <thead>\n",
       "    <tr style=\"text-align: right;\">\n",
       "      <th></th>\n",
       "      <th>Actual_Close</th>\n",
       "      <th>Target</th>\n",
       "      <th>Close</th>\n",
       "      <th>Volume</th>\n",
       "      <th>Open</th>\n",
       "      <th>High</th>\n",
       "      <th>Low</th>\n",
       "    </tr>\n",
       "  </thead>\n",
       "  <tbody>\n",
       "    <tr>\n",
       "      <th>1986-03-14 05:00:00</th>\n",
       "      <td>0.062553</td>\n",
       "      <td>1.0</td>\n",
       "      <td>0.060396</td>\n",
       "      <td>1.031789e+09</td>\n",
       "      <td>0.055004</td>\n",
       "      <td>0.063093</td>\n",
       "      <td>0.055004</td>\n",
       "    </tr>\n",
       "    <tr>\n",
       "      <th>1986-03-17 05:00:00</th>\n",
       "      <td>0.063632</td>\n",
       "      <td>1.0</td>\n",
       "      <td>0.062553</td>\n",
       "      <td>3.081600e+08</td>\n",
       "      <td>0.060396</td>\n",
       "      <td>0.063632</td>\n",
       "      <td>0.060396</td>\n",
       "    </tr>\n",
       "    <tr>\n",
       "      <th>1986-03-18 05:00:00</th>\n",
       "      <td>0.062014</td>\n",
       "      <td>0.0</td>\n",
       "      <td>0.063632</td>\n",
       "      <td>1.331712e+08</td>\n",
       "      <td>0.062553</td>\n",
       "      <td>0.064172</td>\n",
       "      <td>0.062553</td>\n",
       "    </tr>\n",
       "    <tr>\n",
       "      <th>1986-03-19 05:00:00</th>\n",
       "      <td>0.060936</td>\n",
       "      <td>0.0</td>\n",
       "      <td>0.062014</td>\n",
       "      <td>6.776640e+07</td>\n",
       "      <td>0.063632</td>\n",
       "      <td>0.064172</td>\n",
       "      <td>0.061475</td>\n",
       "    </tr>\n",
       "    <tr>\n",
       "      <th>1986-03-20 05:00:00</th>\n",
       "      <td>0.059318</td>\n",
       "      <td>0.0</td>\n",
       "      <td>0.060936</td>\n",
       "      <td>4.789440e+07</td>\n",
       "      <td>0.062014</td>\n",
       "      <td>0.062553</td>\n",
       "      <td>0.060396</td>\n",
       "    </tr>\n",
       "  </tbody>\n",
       "</table>\n",
       "</div>"
      ],
      "text/plain": [
       "                     Actual_Close  Target     Close        Volume      Open  \\\n",
       "1986-03-14 05:00:00      0.062553     1.0  0.060396  1.031789e+09  0.055004   \n",
       "1986-03-17 05:00:00      0.063632     1.0  0.062553  3.081600e+08  0.060396   \n",
       "1986-03-18 05:00:00      0.062014     0.0  0.063632  1.331712e+08  0.062553   \n",
       "1986-03-19 05:00:00      0.060936     0.0  0.062014  6.776640e+07  0.063632   \n",
       "1986-03-20 05:00:00      0.059318     0.0  0.060936  4.789440e+07  0.062014   \n",
       "\n",
       "                         High       Low  \n",
       "1986-03-14 05:00:00  0.063093  0.055004  \n",
       "1986-03-17 05:00:00  0.063632  0.060396  \n",
       "1986-03-18 05:00:00  0.064172  0.062553  \n",
       "1986-03-19 05:00:00  0.064172  0.061475  \n",
       "1986-03-20 05:00:00  0.062553  0.060396  "
      ]
     },
     "execution_count": 46,
     "metadata": {},
     "output_type": "execute_result"
    }
   ],
   "source": [
    "# train data 설정\n",
    "predictors = ['Close', 'Volume', 'Open', 'High', 'Low']\n",
    "data = data.join(msft_prev[predictors]).iloc[1:]\n",
    "data.head()"
   ]
  },
  {
   "cell_type": "code",
   "execution_count": 47,
   "metadata": {},
   "outputs": [],
   "source": [
    "from sklearn.ensemble import RandomForestClassifier\n",
    "import numpy as np\n",
    "\n",
    "model = RandomForestClassifier(n_estimators=100, min_samples_split=200, random_state=1)"
   ]
  },
  {
   "cell_type": "code",
   "execution_count": 48,
   "metadata": {},
   "outputs": [
    {
     "data": {
      "text/html": [
       "<style>#sk-container-id-2 {color: black;}#sk-container-id-2 pre{padding: 0;}#sk-container-id-2 div.sk-toggleable {background-color: white;}#sk-container-id-2 label.sk-toggleable__label {cursor: pointer;display: block;width: 100%;margin-bottom: 0;padding: 0.3em;box-sizing: border-box;text-align: center;}#sk-container-id-2 label.sk-toggleable__label-arrow:before {content: \"▸\";float: left;margin-right: 0.25em;color: #696969;}#sk-container-id-2 label.sk-toggleable__label-arrow:hover:before {color: black;}#sk-container-id-2 div.sk-estimator:hover label.sk-toggleable__label-arrow:before {color: black;}#sk-container-id-2 div.sk-toggleable__content {max-height: 0;max-width: 0;overflow: hidden;text-align: left;background-color: #f0f8ff;}#sk-container-id-2 div.sk-toggleable__content pre {margin: 0.2em;color: black;border-radius: 0.25em;background-color: #f0f8ff;}#sk-container-id-2 input.sk-toggleable__control:checked~div.sk-toggleable__content {max-height: 200px;max-width: 100%;overflow: auto;}#sk-container-id-2 input.sk-toggleable__control:checked~label.sk-toggleable__label-arrow:before {content: \"▾\";}#sk-container-id-2 div.sk-estimator input.sk-toggleable__control:checked~label.sk-toggleable__label {background-color: #d4ebff;}#sk-container-id-2 div.sk-label input.sk-toggleable__control:checked~label.sk-toggleable__label {background-color: #d4ebff;}#sk-container-id-2 input.sk-hidden--visually {border: 0;clip: rect(1px 1px 1px 1px);clip: rect(1px, 1px, 1px, 1px);height: 1px;margin: -1px;overflow: hidden;padding: 0;position: absolute;width: 1px;}#sk-container-id-2 div.sk-estimator {font-family: monospace;background-color: #f0f8ff;border: 1px dotted black;border-radius: 0.25em;box-sizing: border-box;margin-bottom: 0.5em;}#sk-container-id-2 div.sk-estimator:hover {background-color: #d4ebff;}#sk-container-id-2 div.sk-parallel-item::after {content: \"\";width: 100%;border-bottom: 1px solid gray;flex-grow: 1;}#sk-container-id-2 div.sk-label:hover label.sk-toggleable__label {background-color: #d4ebff;}#sk-container-id-2 div.sk-serial::before {content: \"\";position: absolute;border-left: 1px solid gray;box-sizing: border-box;top: 0;bottom: 0;left: 50%;z-index: 0;}#sk-container-id-2 div.sk-serial {display: flex;flex-direction: column;align-items: center;background-color: white;padding-right: 0.2em;padding-left: 0.2em;position: relative;}#sk-container-id-2 div.sk-item {position: relative;z-index: 1;}#sk-container-id-2 div.sk-parallel {display: flex;align-items: stretch;justify-content: center;background-color: white;position: relative;}#sk-container-id-2 div.sk-item::before, #sk-container-id-2 div.sk-parallel-item::before {content: \"\";position: absolute;border-left: 1px solid gray;box-sizing: border-box;top: 0;bottom: 0;left: 50%;z-index: -1;}#sk-container-id-2 div.sk-parallel-item {display: flex;flex-direction: column;z-index: 1;position: relative;background-color: white;}#sk-container-id-2 div.sk-parallel-item:first-child::after {align-self: flex-end;width: 50%;}#sk-container-id-2 div.sk-parallel-item:last-child::after {align-self: flex-start;width: 50%;}#sk-container-id-2 div.sk-parallel-item:only-child::after {width: 0;}#sk-container-id-2 div.sk-dashed-wrapped {border: 1px dashed gray;margin: 0 0.4em 0.5em 0.4em;box-sizing: border-box;padding-bottom: 0.4em;background-color: white;}#sk-container-id-2 div.sk-label label {font-family: monospace;font-weight: bold;display: inline-block;line-height: 1.2em;}#sk-container-id-2 div.sk-label-container {text-align: center;}#sk-container-id-2 div.sk-container {/* jupyter's `normalize.less` sets `[hidden] { display: none; }` but bootstrap.min.css set `[hidden] { display: none !important; }` so we also need the `!important` here to be able to override the default hidden behavior on the sphinx rendered scikit-learn.org. See: https://github.com/scikit-learn/scikit-learn/issues/21755 */display: inline-block !important;position: relative;}#sk-container-id-2 div.sk-text-repr-fallback {display: none;}</style><div id=\"sk-container-id-2\" class=\"sk-top-container\"><div class=\"sk-text-repr-fallback\"><pre>RandomForestClassifier(min_samples_split=200, random_state=1)</pre><b>In a Jupyter environment, please rerun this cell to show the HTML representation or trust the notebook. <br />On GitHub, the HTML representation is unable to render, please try loading this page with nbviewer.org.</b></div><div class=\"sk-container\" hidden><div class=\"sk-item\"><div class=\"sk-estimator sk-toggleable\"><input class=\"sk-toggleable__control sk-hidden--visually\" id=\"sk-estimator-id-2\" type=\"checkbox\" checked><label for=\"sk-estimator-id-2\" class=\"sk-toggleable__label sk-toggleable__label-arrow\">RandomForestClassifier</label><div class=\"sk-toggleable__content\"><pre>RandomForestClassifier(min_samples_split=200, random_state=1)</pre></div></div></div></div></div>"
      ],
      "text/plain": [
       "RandomForestClassifier(min_samples_split=200, random_state=1)"
      ]
     },
     "execution_count": 48,
     "metadata": {},
     "output_type": "execute_result"
    }
   ],
   "source": [
    "# train, test dataset설정\n",
    "train = data.iloc[:-100]\n",
    "test = data.iloc[-100:]\n",
    "\n",
    "model.fit(train[predictors], train['Target'])"
   ]
  },
  {
   "cell_type": "code",
   "execution_count": 49,
   "metadata": {},
   "outputs": [
    {
     "data": {
      "text/plain": [
       "0.6666666666666666"
      ]
     },
     "execution_count": 49,
     "metadata": {},
     "output_type": "execute_result"
    }
   ],
   "source": [
    "from sklearn.metrics import precision_score\n",
    "\n",
    "preds = model.predict(test[predictors])\n",
    "preds = pd.Series(preds, index=test.index)\n",
    "precision_score(test['Target'], preds)"
   ]
  },
  {
   "cell_type": "code",
   "execution_count": 50,
   "metadata": {},
   "outputs": [
    {
     "data": {
      "text/plain": [
       "<Axes: >"
      ]
     },
     "execution_count": 50,
     "metadata": {},
     "output_type": "execute_result"
    },
    {
     "data": {
      "image/png": "[encoded data removed]",
      "text/plain": [
       "<Figure size 640x480 with 1 Axes>"
      ]
     },
     "metadata": {},
     "output_type": "display_data"
    }
   ],
   "source": [
    "combined = pd.concat({'Target' : test['Target'], 'Predictions' : preds}, axis=1)\n",
    "combined.plot()"
   ]
  },
  {
   "cell_type": "code",
   "execution_count": 51,
   "metadata": {},
   "outputs": [],
   "source": [
    "i = 1000\n",
    "step = 750\n",
    "\n",
    "train = data.iloc[0:i].copy()\n",
    "test = data.iloc[i:(i+step)].copy()\n",
    "model.fit(train[predictors], train['Target'])\n",
    "preds = model.predict(test[predictors])"
   ]
  },
  {
   "cell_type": "code",
   "execution_count": 52,
   "metadata": {},
   "outputs": [],
   "source": [
    "preds = model.predict_proba(test[predictors])[:,1]\n",
    "preds = pd.Series(preds, index=test.index)\n",
    "preds[preds > .6] = 1\n",
    "preds[preds <= .6] = 0"
   ]
  },
  {
   "cell_type": "code",
   "execution_count": 53,
   "metadata": {},
   "outputs": [
    {
     "data": {
      "text/plain": [
       "1990-02-27 05:00:00    1.0\n",
       "1990-02-28 05:00:00    1.0\n",
       "1990-03-01 05:00:00    0.0\n",
       "1990-03-02 05:00:00    1.0\n",
       "1990-03-05 05:00:00    1.0\n",
       "dtype: float64"
      ]
     },
     "execution_count": 53,
     "metadata": {},
     "output_type": "execute_result"
    }
   ],
   "source": [
    "preds.head()"
   ]
  },
  {
   "cell_type": "code",
   "execution_count": 54,
   "metadata": {},
   "outputs": [],
   "source": [
    "predictions = []\n",
    "for i in range(1000, data.shape[0], step):\n",
    "    train = data.iloc[0:i].copy()\n",
    "    test = data.iloc[i:(i+step)].copy()\n",
    "\n",
    "    model.fit(train[predictors], train['Target'])\n",
    "\n",
    "    preds = model.predict_proba(test[predictors])[:,1]\n",
    "    preds = pd.Series(preds, index=test.index)\n",
    "    preds[preds > .6] = 1\n",
    "    preds[preds <= .6] = 0\n",
    "\n",
    "    combined = pd.concat({'Target' : test['Target'], \"Predictions\" : preds}, axis=1)\n",
    "\n",
    "    predictions.append(combined)"
   ]
  },
  {
   "cell_type": "code",
   "execution_count": 55,
   "metadata": {},
   "outputs": [
    {
     "data": {
      "text/html": [
       "<div>\n",
       "<style scoped>\n",
       "    .dataframe tbody tr th:only-of-type {\n",
       "        vertical-align: middle;\n",
       "    }\n",
       "\n",
       "    .dataframe tbody tr th {\n",
       "        vertical-align: top;\n",
       "    }\n",
       "\n",
       "    .dataframe thead th {\n",
       "        text-align: right;\n",
       "    }\n",
       "</style>\n",
       "<table border=\"1\" class=\"dataframe\">\n",
       "  <thead>\n",
       "    <tr style=\"text-align: right;\">\n",
       "      <th></th>\n",
       "      <th>Target</th>\n",
       "      <th>Predictions</th>\n",
       "    </tr>\n",
       "  </thead>\n",
       "  <tbody>\n",
       "    <tr>\n",
       "      <th>1990-02-27 05:00:00</th>\n",
       "      <td>0.0</td>\n",
       "      <td>1.0</td>\n",
       "    </tr>\n",
       "    <tr>\n",
       "      <th>1990-02-28 05:00:00</th>\n",
       "      <td>1.0</td>\n",
       "      <td>1.0</td>\n",
       "    </tr>\n",
       "    <tr>\n",
       "      <th>1990-03-01 05:00:00</th>\n",
       "      <td>1.0</td>\n",
       "      <td>0.0</td>\n",
       "    </tr>\n",
       "    <tr>\n",
       "      <th>1990-03-02 05:00:00</th>\n",
       "      <td>1.0</td>\n",
       "      <td>1.0</td>\n",
       "    </tr>\n",
       "    <tr>\n",
       "      <th>1990-03-05 05:00:00</th>\n",
       "      <td>1.0</td>\n",
       "      <td>1.0</td>\n",
       "    </tr>\n",
       "  </tbody>\n",
       "</table>\n",
       "</div>"
      ],
      "text/plain": [
       "                     Target  Predictions\n",
       "1990-02-27 05:00:00     0.0          1.0\n",
       "1990-02-28 05:00:00     1.0          1.0\n",
       "1990-03-01 05:00:00     1.0          0.0\n",
       "1990-03-02 05:00:00     1.0          1.0\n",
       "1990-03-05 05:00:00     1.0          1.0"
      ]
     },
     "execution_count": 55,
     "metadata": {},
     "output_type": "execute_result"
    }
   ],
   "source": [
    "predictions[0].head()"
   ]
  },
  {
   "cell_type": "code",
   "execution_count": 56,
   "metadata": {},
   "outputs": [],
   "source": [
    "def backtest(data, model, predictors, start=1000, step=750):\n",
    "    predictions = []\n",
    "    for i in range(1000, data.shape[0], step):\n",
    "        train = data.iloc[0:i].copy()\n",
    "        test = data.iloc[i:(i+step)].copy()\n",
    "\n",
    "        model.fit(train[predictors], train['Target'])\n",
    "\n",
    "        preds = model.predict_proba(test[predictors])[:,1]\n",
    "        preds = pd.Series(preds, index=test.index)\n",
    "        preds[preds > .6] = 1\n",
    "        preds[preds <= .6] = 0\n",
    "\n",
    "        combined = pd.concat({'Target' : test['Target'], \"Predictions\" : preds}, axis=1)\n",
    "\n",
    "        predictions.append(combined)\n",
    "\n",
    "        return pd.concat(predictions)"
   ]
  },
  {
   "cell_type": "code",
   "execution_count": 57,
   "metadata": {},
   "outputs": [],
   "source": [
    "predictions = backtest(data, model, predictors)"
   ]
  },
  {
   "cell_type": "code",
   "execution_count": 58,
   "metadata": {},
   "outputs": [
    {
     "data": {
      "text/plain": [
       "Predictions\n",
       "1.0    554\n",
       "0.0    196\n",
       "Name: count, dtype: int64"
      ]
     },
     "execution_count": 58,
     "metadata": {},
     "output_type": "execute_result"
    }
   ],
   "source": [
    "predictions[\"Predictions\"].value_counts()"
   ]
  },
  {
   "cell_type": "code",
   "execution_count": 59,
   "metadata": {},
   "outputs": [
    {
     "data": {
      "text/plain": [
       "Target\n",
       "1.0    381\n",
       "0.0    369\n",
       "Name: count, dtype: int64"
      ]
     },
     "execution_count": 59,
     "metadata": {},
     "output_type": "execute_result"
    }
   ],
   "source": [
    "predictions[\"Target\"].value_counts()"
   ]
  },
  {
   "cell_type": "code",
   "execution_count": 60,
   "metadata": {},
   "outputs": [],
   "source": [
    "weekly_mean = data.rolling(7).mean()['Close']\n",
    "quarterly_mean = data.rolling(90).mean()['Close']\n",
    "annual_mean = data.rolling(365).mean()['Close']"
   ]
  },
  {
   "cell_type": "code",
   "execution_count": 61,
   "metadata": {},
   "outputs": [],
   "source": [
    "weekly_trend = data.shift(1).rolling(7).sum()['Target']"
   ]
  },
  {
   "cell_type": "code",
   "execution_count": 62,
   "metadata": {},
   "outputs": [],
   "source": [
    "data['weekly_mean'] = weekly_mean / data['Close']\n",
    "data['quarterly_mean'] = quarterly_mean / data['Close']\n",
    "data['annual_mean'] = annual_mean / data['Close']"
   ]
  },
  {
   "cell_type": "code",
   "execution_count": 63,
   "metadata": {},
   "outputs": [],
   "source": [
    "data['annual_weekly_mean'] = data['annual_mean'] / data['weekly_mean']\n",
    "data['annual_quarterly_mean'] = data['annual_mean'] / data['quarterly_mean']"
   ]
  },
  {
   "cell_type": "code",
   "execution_count": 64,
   "metadata": {},
   "outputs": [],
   "source": [
    "data['weekly_trend'] = weekly_trend"
   ]
  },
  {
   "cell_type": "code",
   "execution_count": 65,
   "metadata": {},
   "outputs": [],
   "source": [
    "data['open_close_ratio'] = data['Open'] / data['Close']\n",
    "data['high_close_ratio'] = data['High'] / data['Close']\n",
    "data['low_close_ratio'] = data['Low'] / data['Close']"
   ]
  },
  {
   "cell_type": "code",
   "execution_count": 66,
   "metadata": {},
   "outputs": [],
   "source": [
    "full_predictors = predictors + [\"weekly_mean\", \"quarterly_mean\", \"annual_mean\", \n",
    "                                \"annual_weekly_mean\", \"annual_quarterly_mean\", \n",
    "                                \"open_close_ratio\", \"high_close_ratio\", \"low_close_ratio\"]\n"
   ]
  },
  {
   "cell_type": "code",
   "execution_count": 67,
   "metadata": {},
   "outputs": [
    {
     "name": "stderr",
     "output_type": "stream",
     "text": [
      "c:\\Users\\fins6\\anaconda3\\envs\\ds_study\\lib\\site-packages\\sklearn\\metrics\\_classification.py:1469: UndefinedMetricWarning: Precision is ill-defined and being set to 0.0 due to no predicted samples. Use `zero_division` parameter to control this behavior.\n",
      "  _warn_prf(average, modifier, msg_start, len(result))\n"
     ]
    },
    {
     "data": {
      "text/plain": [
       "0.0"
      ]
     },
     "execution_count": 67,
     "metadata": {},
     "output_type": "execute_result"
    }
   ],
   "source": [
    "predictions = backtest(data.iloc[365:], model, full_predictors)\n",
    "precision_score(predictions[\"Target\"], predictions[\"Predictions\"])"
   ]
  },
  {
   "cell_type": "code",
   "execution_count": 68,
   "metadata": {},
   "outputs": [
    {
     "data": {
      "text/plain": [
       "Predictions\n",
       "0.0    750\n",
       "Name: count, dtype: int64"
      ]
     },
     "execution_count": 68,
     "metadata": {},
     "output_type": "execute_result"
    }
   ],
   "source": [
    "predictions['Predictions'].value_counts()"
   ]
  },
  {
   "cell_type": "code",
   "execution_count": 71,
   "metadata": {},
   "outputs": [
    {
     "data": {
      "text/html": [
       "<div>\n",
       "<style scoped>\n",
       "    .dataframe tbody tr th:only-of-type {\n",
       "        vertical-align: middle;\n",
       "    }\n",
       "\n",
       "    .dataframe tbody tr th {\n",
       "        vertical-align: top;\n",
       "    }\n",
       "\n",
       "    .dataframe thead th {\n",
       "        text-align: right;\n",
       "    }\n",
       "</style>\n",
       "<table border=\"1\" class=\"dataframe\">\n",
       "  <thead>\n",
       "    <tr style=\"text-align: right;\">\n",
       "      <th></th>\n",
       "      <th>Target</th>\n",
       "      <th>Predictions</th>\n",
       "    </tr>\n",
       "  </thead>\n",
       "  <tbody>\n",
       "    <tr>\n",
       "      <th>1991-08-07 04:00:00</th>\n",
       "      <td>1.0</td>\n",
       "      <td>0.0</td>\n",
       "    </tr>\n",
       "    <tr>\n",
       "      <th>1991-08-08 04:00:00</th>\n",
       "      <td>1.0</td>\n",
       "      <td>0.0</td>\n",
       "    </tr>\n",
       "    <tr>\n",
       "      <th>1991-08-09 04:00:00</th>\n",
       "      <td>1.0</td>\n",
       "      <td>0.0</td>\n",
       "    </tr>\n",
       "    <tr>\n",
       "      <th>1991-08-12 04:00:00</th>\n",
       "      <td>1.0</td>\n",
       "      <td>0.0</td>\n",
       "    </tr>\n",
       "    <tr>\n",
       "      <th>1991-08-13 04:00:00</th>\n",
       "      <td>0.0</td>\n",
       "      <td>0.0</td>\n",
       "    </tr>\n",
       "    <tr>\n",
       "      <th>...</th>\n",
       "      <td>...</td>\n",
       "      <td>...</td>\n",
       "    </tr>\n",
       "    <tr>\n",
       "      <th>1994-07-19 04:00:00</th>\n",
       "      <td>0.0</td>\n",
       "      <td>0.0</td>\n",
       "    </tr>\n",
       "    <tr>\n",
       "      <th>1994-07-20 04:00:00</th>\n",
       "      <td>0.0</td>\n",
       "      <td>0.0</td>\n",
       "    </tr>\n",
       "    <tr>\n",
       "      <th>1994-07-21 04:00:00</th>\n",
       "      <td>0.0</td>\n",
       "      <td>0.0</td>\n",
       "    </tr>\n",
       "    <tr>\n",
       "      <th>1994-07-22 04:00:00</th>\n",
       "      <td>1.0</td>\n",
       "      <td>0.0</td>\n",
       "    </tr>\n",
       "    <tr>\n",
       "      <th>1994-07-25 04:00:00</th>\n",
       "      <td>1.0</td>\n",
       "      <td>0.0</td>\n",
       "    </tr>\n",
       "  </tbody>\n",
       "</table>\n",
       "<p>750 rows × 2 columns</p>\n",
       "</div>"
      ],
      "text/plain": [
       "                     Target  Predictions\n",
       "1991-08-07 04:00:00     1.0          0.0\n",
       "1991-08-08 04:00:00     1.0          0.0\n",
       "1991-08-09 04:00:00     1.0          0.0\n",
       "1991-08-12 04:00:00     1.0          0.0\n",
       "1991-08-13 04:00:00     0.0          0.0\n",
       "...                     ...          ...\n",
       "1994-07-19 04:00:00     0.0          0.0\n",
       "1994-07-20 04:00:00     0.0          0.0\n",
       "1994-07-21 04:00:00     0.0          0.0\n",
       "1994-07-22 04:00:00     1.0          0.0\n",
       "1994-07-25 04:00:00     1.0          0.0\n",
       "\n",
       "[750 rows x 2 columns]"
      ]
     },
     "execution_count": 71,
     "metadata": {},
     "output_type": "execute_result"
    }
   ],
   "source": [
    "predictions"
   ]
  },
  {
   "cell_type": "code",
   "execution_count": 70,
   "metadata": {},
   "outputs": [
    {
     "data": {
      "text/plain": [
       "<Axes: >"
      ]
     },
     "execution_count": 70,
     "metadata": {},
     "output_type": "execute_result"
    },
    {
     "data": {
      "image/png": "[encoded data removed]",
      "text/plain": [
       "<Figure size 640x480 with 1 Axes>"
      ]
     },
     "metadata": {},
     "output_type": "display_data"
    }
   ],
   "source": [
    "predictions.iloc[-100:].plot()"
   ]
  },
  {
   "cell_type": "markdown",
   "metadata": {},
   "source": [
    "https://www.dataquest.io/blog/portfolio-project-predicting-stock-prices-using-pandas-and-scikit-learn/"
   ]
  },
  {
   "cell_type": "code",
   "execution_count": null,
   "metadata": {},
   "outputs": [],
   "source": []
  },
  {
   "cell_type": "code",
   "execution_count": null,
   "metadata": {},
   "outputs": [],
   "source": []
  }
 ],
 "metadata": {
  "kernelspec": {
   "display_name": "ds_study",
   "language": "python",
   "name": "python3"
  },
  "language_info": {
   "codemirror_mode": {
    "name": "ipython",
    "version": 3
   },
   "file_extension": ".py",
   "mimetype": "text/x-python",
   "name": "python",
   "nbconvert_exporter": "python",
   "pygments_lexer": "ipython3",
   "version": "3.8.18"
  }
 },
 "nbformat": 4,
 "nbformat_minor": 2
}
