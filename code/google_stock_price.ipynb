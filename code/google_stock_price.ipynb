{
 "cells": [
  {
   "cell_type": "code",
   "execution_count": 24,
   "metadata": {},
   "outputs": [],
   "source": [
    "import numpy as np\n",
    "import pandas as pd\n",
    "import matplotlib.pyplot as plt\n",
    "from sklearn.preprocessing import MinMaxScaler\n",
    "from keras.models import Sequential\n",
    "from keras.layers import Dense, LSTM, Dropout"
   ]
  },
  {
   "cell_type": "code",
   "execution_count": 25,
   "metadata": {},
   "outputs": [
    {
     "name": "stdout",
     "output_type": "stream",
     "text": [
      "<class 'pandas.core.frame.DataFrame'>\n",
      "RangeIndex: 3272 entries, 0 to 3271\n",
      "Data columns (total 7 columns):\n",
      " #   Column     Non-Null Count  Dtype  \n",
      "---  ------     --------------  -----  \n",
      " 0   Date       3272 non-null   object \n",
      " 1   Open       3272 non-null   float64\n",
      " 2   High       3272 non-null   float64\n",
      " 3   Low        3272 non-null   float64\n",
      " 4   Close      3272 non-null   float64\n",
      " 5   Adj Close  3272 non-null   float64\n",
      " 6   Volume     3272 non-null   int64  \n",
      "dtypes: float64(5), int64(1), object(1)\n",
      "memory usage: 179.1+ KB\n"
     ]
    }
   ],
   "source": [
    "data = pd.read_csv('../dataset/stock_price_predict/Google_Stock_Train (2010-2022).csv')\n",
    "data.info()"
   ]
  },
  {
   "cell_type": "code",
   "execution_count": 26,
   "metadata": {},
   "outputs": [],
   "source": [
    "data['Close'] = pd.to_numeric(data.Close, errors='coerce')\n",
    "data = data.dropna()\n",
    "trainData = data.iloc[:,4:5].values"
   ]
  },
  {
   "cell_type": "code",
   "execution_count": 27,
   "metadata": {},
   "outputs": [
    {
     "name": "stdout",
     "output_type": "stream",
     "text": [
      "<class 'pandas.core.frame.DataFrame'>\n",
      "RangeIndex: 3272 entries, 0 to 3271\n",
      "Data columns (total 7 columns):\n",
      " #   Column     Non-Null Count  Dtype  \n",
      "---  ------     --------------  -----  \n",
      " 0   Date       3272 non-null   object \n",
      " 1   Open       3272 non-null   float64\n",
      " 2   High       3272 non-null   float64\n",
      " 3   Low        3272 non-null   float64\n",
      " 4   Close      3272 non-null   float64\n",
      " 5   Adj Close  3272 non-null   float64\n",
      " 6   Volume     3272 non-null   int64  \n",
      "dtypes: float64(5), int64(1), object(1)\n",
      "memory usage: 179.1+ KB\n"
     ]
    }
   ],
   "source": [
    "data.info()"
   ]
  },
  {
   "cell_type": "code",
   "execution_count": 28,
   "metadata": {},
   "outputs": [
    {
     "data": {
      "text/plain": [
       "(3272, 1)"
      ]
     },
     "execution_count": 28,
     "metadata": {},
     "output_type": "execute_result"
    }
   ],
   "source": [
    "sc = MinMaxScaler(feature_range=(0,1))\n",
    "trainData = sc.fit_transform(trainData)\n",
    "trainData.shape"
   ]
  },
  {
   "cell_type": "code",
   "execution_count": 29,
   "metadata": {},
   "outputs": [],
   "source": [
    "X_train = []\n",
    "y_train = []\n",
    "\n",
    "for idx in range(60, 1149): # timestep, length of data\n",
    "    X_train.append(trainData[idx-60:idx])\n",
    "    y_train.append(trainData[idx,0])\n",
    "\n",
    "X_train,y_train = np.array(X_train), np.array(y_train)"
   ]
  },
  {
   "cell_type": "code",
   "execution_count": 30,
   "metadata": {},
   "outputs": [
    {
     "data": {
      "text/plain": [
       "(1089, 60, 1)"
      ]
     },
     "execution_count": 30,
     "metadata": {},
     "output_type": "execute_result"
    }
   ],
   "source": [
    "X_train = np.reshape(X_train, (X_train.shape[0], X_train.shape[1], 1))\n",
    "X_train.shape"
   ]
  },
  {
   "cell_type": "code",
   "execution_count": 31,
   "metadata": {},
   "outputs": [],
   "source": [
    "model = Sequential()\n",
    "\n",
    "model.add(LSTM(units=100, return_sequences=True, input_shape=(X_train.shape[1],1)))\n",
    "model.add(Dropout(0.2))\n",
    "\n",
    "model.add(LSTM(units=100, return_sequences=True))\n",
    "model.add(Dropout(0.2))\n",
    "\n",
    "model.add(LSTM(units=100, return_sequences=True))\n",
    "model.add(Dropout(0.2))\n",
    "\n",
    "model.add(LSTM(units=100, return_sequences=False))\n",
    "model.add(Dropout(0.2))\n",
    "\n",
    "model.add(Dense(units=1))\n",
    "model.compile(optimizer='adam', loss='mean_squared_error')"
   ]
  },
  {
   "cell_type": "code",
   "execution_count": 32,
   "metadata": {},
   "outputs": [
    {
     "name": "stdout",
     "output_type": "stream",
     "text": [
      "Epoch 1/20\n",
      "35/35 - 14s - loss: 4.8522e-04 - 14s/epoch - 395ms/step\n",
      "Epoch 2/20\n",
      "35/35 - 4s - loss: 9.0240e-05 - 4s/epoch - 118ms/step\n",
      "Epoch 3/20\n",
      "35/35 - 4s - loss: 7.1837e-05 - 4s/epoch - 114ms/step\n",
      "Epoch 4/20\n",
      "35/35 - 4s - loss: 7.3990e-05 - 4s/epoch - 113ms/step\n",
      "Epoch 5/20\n",
      "35/35 - 4s - loss: 5.6726e-05 - 4s/epoch - 114ms/step\n",
      "Epoch 6/20\n",
      "35/35 - 4s - loss: 5.8190e-05 - 4s/epoch - 100ms/step\n",
      "Epoch 7/20\n",
      "35/35 - 3s - loss: 7.1593e-05 - 3s/epoch - 97ms/step\n",
      "Epoch 8/20\n",
      "35/35 - 3s - loss: 5.8849e-05 - 3s/epoch - 90ms/step\n",
      "Epoch 9/20\n",
      "35/35 - 3s - loss: 6.3935e-05 - 3s/epoch - 89ms/step\n",
      "Epoch 10/20\n",
      "35/35 - 3s - loss: 5.4425e-05 - 3s/epoch - 92ms/step\n",
      "Epoch 11/20\n",
      "35/35 - 3s - loss: 5.5201e-05 - 3s/epoch - 94ms/step\n",
      "Epoch 12/20\n",
      "35/35 - 3s - loss: 5.7442e-05 - 3s/epoch - 95ms/step\n",
      "Epoch 13/20\n",
      "35/35 - 3s - loss: 4.6646e-05 - 3s/epoch - 90ms/step\n",
      "Epoch 14/20\n",
      "35/35 - 3s - loss: 4.9521e-05 - 3s/epoch - 93ms/step\n",
      "Epoch 15/20\n",
      "35/35 - 4s - loss: 6.1452e-05 - 4s/epoch - 103ms/step\n",
      "Epoch 16/20\n",
      "35/35 - 3s - loss: 5.6110e-05 - 3s/epoch - 92ms/step\n",
      "Epoch 17/20\n",
      "35/35 - 3s - loss: 4.2992e-05 - 3s/epoch - 92ms/step\n",
      "Epoch 18/20\n",
      "35/35 - 3s - loss: 4.3310e-05 - 3s/epoch - 97ms/step\n",
      "Epoch 19/20\n",
      "35/35 - 3s - loss: 4.6845e-05 - 3s/epoch - 96ms/step\n",
      "Epoch 20/20\n",
      "35/35 - 4s - loss: 3.6652e-05 - 4s/epoch - 105ms/step\n"
     ]
    }
   ],
   "source": [
    "hist = model.fit(X_train, y_train, epochs=20, batch_size=32, verbose=2)"
   ]
  },
  {
   "cell_type": "code",
   "execution_count": 33,
   "metadata": {},
   "outputs": [
    {
     "data": {
      "image/png": "[encoded data removed]",
      "text/plain": [
       "<Figure size 640x480 with 1 Axes>"
      ]
     },
     "metadata": {},
     "output_type": "display_data"
    }
   ],
   "source": [
    "plt.plot(hist.history['loss'])\n",
    "plt.title('Training model loss')\n",
    "plt.ylabel('loss')\n",
    "plt.xlabel('epoch')\n",
    "plt.legend(['train'], loc='upper left')\n",
    "plt.show()"
   ]
  },
  {
   "cell_type": "code",
   "execution_count": 34,
   "metadata": {},
   "outputs": [
    {
     "data": {
      "text/plain": [
       "(143, 1)"
      ]
     },
     "execution_count": 34,
     "metadata": {},
     "output_type": "execute_result"
    }
   ],
   "source": [
    "testData = pd.read_csv('../dataset/stock_price_predict/Google_Stock_Test (2023).csv')\n",
    "testData['Close'] = pd.to_numeric(testData.Close, errors='coerce')\n",
    "testData = testData.dropna()\n",
    "testData = testData.iloc[:, 4:5]\n",
    "y_test = testData.iloc[60:, 0:].values\n",
    "\n",
    "#input array for the model\n",
    "inputClosing = testData.iloc[:,0:].values\n",
    "inputClosing_scaled = sc.transform(inputClosing)\n",
    "inputClosing_scaled.shape"
   ]
  },
  {
   "cell_type": "code",
   "execution_count": 35,
   "metadata": {},
   "outputs": [
    {
     "data": {
      "text/plain": [
       "(83, 60, 1)"
      ]
     },
     "execution_count": 35,
     "metadata": {},
     "output_type": "execute_result"
    }
   ],
   "source": [
    "X_test = []\n",
    "length = len(testData)\n",
    "timestep = 60\n",
    "for i in range(timestep, length):\n",
    "    X_test.append(inputClosing_scaled[i-timestep:i,0])\n",
    "\n",
    "X_test = np.array(X_test)\n",
    "X_test = np.reshape(X_test, (X_test.shape[0], X_test.shape[1],1))\n",
    "X_test.shape"
   ]
  },
  {
   "cell_type": "code",
   "execution_count": 36,
   "metadata": {},
   "outputs": [
    {
     "name": "stdout",
     "output_type": "stream",
     "text": [
      "3/3 [==============================] - 1s 23ms/step\n"
     ]
    },
    {
     "data": {
      "text/plain": [
       "array([[0.6706194 ],\n",
       "       [0.67321694],\n",
       "       [0.67396885],\n",
       "       [0.6736284 ],\n",
       "       [0.67291164],\n",
       "       [0.67229563],\n",
       "       [0.6724614 ],\n",
       "       [0.6736095 ],\n",
       "       [0.6754958 ],\n",
       "       [0.6776508 ],\n",
       "       [0.679952  ],\n",
       "       [0.6825239 ],\n",
       "       [0.6851277 ],\n",
       "       [0.6872959 ],\n",
       "       [0.68863267],\n",
       "       [0.68908477],\n",
       "       [0.68881065],\n",
       "       [0.6881139 ],\n",
       "       [0.6870558 ],\n",
       "       [0.68564755],\n",
       "       [0.6843719 ],\n",
       "       [0.68366104],\n",
       "       [0.6837225 ],\n",
       "       [0.6843438 ],\n",
       "       [0.6852109 ],\n",
       "       [0.685973  ],\n",
       "       [0.6864885 ],\n",
       "       [0.6869827 ],\n",
       "       [0.6876548 ],\n",
       "       [0.68908113],\n",
       "       [0.69216913],\n",
       "       [0.69747657],\n",
       "       [0.7048339 ],\n",
       "       [0.7139074 ],\n",
       "       [0.72423863],\n",
       "       [0.73539287],\n",
       "       [0.7468023 ],\n",
       "       [0.7580724 ],\n",
       "       [0.768546  ],\n",
       "       [0.7774443 ],\n",
       "       [0.78449893],\n",
       "       [0.78985715],\n",
       "       [0.79370683],\n",
       "       [0.7961796 ],\n",
       "       [0.7975269 ],\n",
       "       [0.79813296],\n",
       "       [0.7984881 ],\n",
       "       [0.7990951 ],\n",
       "       [0.79974866],\n",
       "       [0.8000641 ],\n",
       "       [0.79978204],\n",
       "       [0.7989844 ],\n",
       "       [0.7979099 ],\n",
       "       [0.7967914 ],\n",
       "       [0.7959531 ],\n",
       "       [0.7954596 ],\n",
       "       [0.79521114],\n",
       "       [0.7948137 ],\n",
       "       [0.7942243 ],\n",
       "       [0.7934634 ],\n",
       "       [0.7921754 ],\n",
       "       [0.7900992 ],\n",
       "       [0.7874028 ],\n",
       "       [0.7843159 ],\n",
       "       [0.7811622 ],\n",
       "       [0.7782642 ],\n",
       "       [0.77605325],\n",
       "       [0.7746387 ],\n",
       "       [0.77387977],\n",
       "       [0.773243  ],\n",
       "       [0.77234274],\n",
       "       [0.77120423],\n",
       "       [0.7705976 ],\n",
       "       [0.77128345],\n",
       "       [0.7735254 ],\n",
       "       [0.77706164],\n",
       "       [0.7811992 ],\n",
       "       [0.78493696],\n",
       "       [0.78759897],\n",
       "       [0.7890567 ],\n",
       "       [0.7895463 ],\n",
       "       [0.7901497 ],\n",
       "       [0.7917945 ]], dtype=float32)"
      ]
     },
     "execution_count": 36,
     "metadata": {},
     "output_type": "execute_result"
    }
   ],
   "source": [
    "y_pred = model.predict(X_test)\n",
    "y_pred"
   ]
  },
  {
   "cell_type": "code",
   "execution_count": 37,
   "metadata": {},
   "outputs": [],
   "source": [
    "predicted_price = sc.inverse_transform(y_pred)"
   ]
  },
  {
   "cell_type": "code",
   "execution_count": 38,
   "metadata": {},
   "outputs": [
    {
     "data": {
      "image/png": "[encoded data removed]",
      "text/plain": [
       "<Figure size 640x480 with 1 Axes>"
      ]
     },
     "metadata": {},
     "output_type": "display_data"
    }
   ],
   "source": [
    "plt.plot(y_test, color='red',label='Actual Stock Price')\n",
    "plt.plot(predicted_price, color='green', label='Predicted Stock Price')\n",
    "plt.title('Google stock  price prediction')\n",
    "plt.xlabel('Time')\n",
    "plt.ylabel('Stock Price')\n",
    "plt.legend()\n",
    "plt.show()"
   ]
  },
  {
   "cell_type": "code",
   "execution_count": null,
   "metadata": {},
   "outputs": [],
   "source": []
  },
  {
   "cell_type": "code",
   "execution_count": null,
   "metadata": {},
   "outputs": [],
   "source": []
  },
  {
   "cell_type": "code",
   "execution_count": null,
   "metadata": {},
   "outputs": [],
   "source": []
  },
  {
   "cell_type": "code",
   "execution_count": null,
   "metadata": {},
   "outputs": [],
   "source": []
  }
 ],
 "metadata": {
  "kernelspec": {
   "display_name": "ds_study",
   "language": "python",
   "name": "python3"
  },
  "language_info": {
   "codemirror_mode": {
    "name": "ipython",
    "version": 3
   },
   "file_extension": ".py",
   "mimetype": "text/x-python",
   "name": "python",
   "nbconvert_exporter": "python",
   "pygments_lexer": "ipython3",
   "version": "3.8.18"
  }
 },
 "nbformat": 4,
 "nbformat_minor": 2
}
